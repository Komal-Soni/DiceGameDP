{
  "cells": [
    {
      "cell_type": "markdown",
      "source": [
        "# Problem Statement\n",
        "\n",
        "Develop a reinforcement learning agent using dynamic programming methods to solve the Dice game optimally. The agent will learn the optimal policy by iteratively evaluating and improving its strategy based on the state-value function and the Bellman equations."
      ],
      "metadata": {
        "id": "7Uh03PdwA9-T"
      }
    },
    {
      "cell_type": "markdown",
      "metadata": {
        "id": "utCCy98e7aft"
      },
      "source": [
        "# Scenario:\n",
        "A player rolls a 6-sided die with the objective of reaching a score of **exactly** 100. On each turn, the player can choose to stop and keep their current score or continue rolling the die. If the player rolls a 1, they lose all points accumulated in that turn and the turn ends. If the player rolls any other number (2-6), that number is added to their score for that turn. The game ends when the player decides to stop and keep their score OR when the player's score reaches 100. The player wins if they reach a score of exactly 100, and loses if they roll a 1 when their score is below 100.\n",
        "\n"
      ]
    },
    {
      "cell_type": "markdown",
      "source": [
        "#Environment Details\n",
        "\n",
        "* The environment consists of a player who can choose to either roll a 6-sided die or stop at any point.\n",
        "* The player starts with an initial score (e.g., 0) and aims to reach a score of exactly 100.\n",
        "* If the player rolls a 1, they lose all points accumulated in that turn and the turn ends. If they roll any other number (2-6), that number is added to their score for that turn.\n",
        "* The goal is to accumulate a total of exactly 100 points to win, or to stop the game before reaching 100 points.\n",
        "\n",
        "#### States\n",
        "* State s: Represents the current score of the player, ranging from 0 to 100.\n",
        "* Terminal States:\n",
        "    * State s = 100: Represents the player winning the game by reaching the goal of 100 points.\n",
        "    * State s = 0: Represents the player losing all points accumulated in the turn due to rolling a 1.\n",
        "\n",
        "\n",
        "#### Actions\n",
        "* Action a: Represents the decision to either \"roll\" the die or \"stop\" the game at the current score.\n",
        "* The possible actions in any state s are either \"roll\" or \"stop\".\n"
      ],
      "metadata": {
        "id": "9tvyyPpNB8M5"
      }
    },
    {
      "cell_type": "markdown",
      "metadata": {
        "id": "851webtI7aft"
      },
      "source": [
        "# Expected Outcomes:\n",
        "1.\tUse dynamic programming methods value iteration, policy improvement and policy evaluation to find the optimal policy for the Dice Game.\n",
        "2.\tImplement an epsilon-greedy policy for action selection during training to balance exploration and exploitation.\n",
        "3.\tEvaluate the agent's performance in terms of the probability of reaching exactly 100 points after learning the optimal policy.\n",
        "4.\tUse the agent's policy as the best strategy for different betting scenarios within the problem.\n"
      ]
    },
    {
      "cell_type": "markdown",
      "source": [
        "# Code Execution"
      ],
      "metadata": {
        "id": "8GRKO9n6EeWe"
      }
    },
    {
      "cell_type": "markdown",
      "metadata": {
        "id": "fxpP5E667afu"
      },
      "source": [
        "### Initialize constants"
      ]
    },
    {
      "cell_type": "code",
      "execution_count": 2,
      "metadata": {
        "id": "ewHMwHxk7afu"
      },
      "outputs": [],
      "source": [
        "import numpy as np\n",
        "# Constants\n",
        "goal = 100\n",
        "gamma = 1.0\n",
        "prob_roll = 0.6\n",
        "\n",
        "# Initialize value function and policy\n",
        "V = np.zeros(goal + 1)\n",
        "policy = np.zeros(goal + 1, dtype=int)  # 0 for \"stop\", 1 for \"roll\""
      ]
    },
    {
      "cell_type": "markdown",
      "source": [
        "# Design a DiceGame Environment"
      ],
      "metadata": {
        "id": "HroEzPwhQkwq"
      }
    },
    {
      "cell_type": "code",
      "source": [
        "# Code for Dataset loading and print dataset statistics along with reward function\n",
        "\n",
        "import numpy as np\n",
        "\n",
        "class DiceGameEnvironment:\n",
        "    def __init__(self, goal=100, prob_roll=0.6):\n",
        "        self.goal = goal  # Goal score to reach\n",
        "        self.prob_roll = prob_roll  # Probability of rolling the die successfully\n",
        "\n",
        "    def reset(self):\n",
        "        \"\"\"Reset the environment to starting state.\"\"\"\n",
        "        self.current_score = 0\n",
        "        self.done = False\n",
        "\n",
        "    def step(self, action):\n",
        "        \"\"\"Take a step in the environment based on the action.\"\"\"\n",
        "        if self.done:\n",
        "            raise ValueError(\"Cannot step in a completed episode. Call reset() to start a new episode.\")\n",
        "\n",
        "        reward = 0\n",
        "        if action == 'roll':\n",
        "            roll_result = np.random.randint(1, 7)  # Roll a 6-sided die\n",
        "            if roll_result == 1:\n",
        "                reward = -self.current_score  # Lose all points accumulated in this turn\n",
        "                self.current_score = 0\n",
        "                self.done = True\n",
        "            else:\n",
        "                self.current_score += roll_result\n",
        "                if self.current_score >= self.goal:\n",
        "                    reward = self.current_score  # Win by reaching the goal\n",
        "                    self.done = True\n",
        "        elif action == 'stop':\n",
        "            reward = self.current_score  # Keep current score and end the episode\n",
        "            self.done = True\n",
        "        else:\n",
        "            raise ValueError(\"Invalid action. Choose either 'roll' or 'stop'.\")\n",
        "\n",
        "        return self.current_score, reward, self.done\n",
        "\n",
        "    def get_state(self):\n",
        "        \"\"\"Return the current score/state of the environment.\"\"\"\n",
        "        return self.current_score\n",
        "\n",
        "    def is_done(self):\n",
        "        \"\"\"Check if the game is finished.\"\"\"\n",
        "        return self.done\n"
      ],
      "metadata": {
        "id": "Uc7EP7ZXQsn5"
      },
      "execution_count": 3,
      "outputs": []
    },
    {
      "cell_type": "markdown",
      "metadata": {
        "id": "4KxOlvFZ7afv"
      },
      "source": [
        "# Policy Iteration Function Definition"
      ]
    },
    {
      "cell_type": "code",
      "execution_count": 4,
      "metadata": {
        "id": "us3gUgp57afv"
      },
      "outputs": [],
      "source": [
        "def policy_iteration(env, gamma=1.0):\n",
        "    num_states = env.goal + 1  # States range from 0 to goal\n",
        "    num_actions = 2  # 'roll' or 'stop'\n",
        "\n",
        "    # Initialize random policy and value function\n",
        "    policy = np.random.randint(0, num_actions, size=num_states)  # Random policy\n",
        "    V = np.zeros(num_states)  # Value function\n",
        "\n",
        "    def calculate_state_value(state, action):\n",
        "        \"\"\"Calculate the value of a state-action pair.\"\"\"\n",
        "        if action == 1:  # Action 1 corresponds to 'stop'\n",
        "            return state  # Value of 'stop' action is the current score\n",
        "        elif action == 0:  # Action 0 corresponds to 'roll'\n",
        "            if state >= env.goal:\n",
        "                return state  # If already at or above goal, returning the current state\n",
        "            else:\n",
        "                roll_values = [state + roll for roll in range(2, 7)]  # Possible roll outcomes\n",
        "                roll_values = [min(value, env.goal) for value in roll_values]  # Cap at goal\n",
        "                roll_values.append(0)  # Value of rolling a 1 is losing all points\n",
        "                return np.sum([(1/6) * (env.prob_roll * value) for value in roll_values])\n",
        "        else:\n",
        "            raise ValueError(\"Invalid action. Choose either 0 for 'roll' or 1 for 'stop'.\")\n",
        "\n",
        "    def policy_evaluation(policy):\n",
        "        \"\"\"Evaluate the value function for the given policy.\"\"\"\n",
        "        while True:\n",
        "            delta = 0\n",
        "            for s in range(1, env.goal):  # Evaluate all states from 1 to goal-1\n",
        "                old_v = V[s]\n",
        "                V[s] = calculate_state_value(s, policy[s])\n",
        "                delta = max(delta, abs(old_v - V[s]))\n",
        "            if delta < 1e-6:\n",
        "                break\n",
        "\n",
        "    def policy_improvement():\n",
        "        \"\"\"Improve the policy based on the current value function.\"\"\"\n",
        "        policy_stable = True\n",
        "        for s in range(1, env.goal):  # Improve policy for all states from 1 to goal-1\n",
        "            old_action = policy[s]\n",
        "            action_values = [calculate_state_value(s, 0), calculate_state_value(s, 1)]\n",
        "            policy[s] = np.argmax(action_values)\n",
        "            if old_action != policy[s]:\n",
        "                policy_stable = False\n",
        "        return policy_stable\n",
        "\n",
        "    while True:\n",
        "        policy_evaluation(policy)\n",
        "        if policy_improvement():\n",
        "            break\n",
        "\n",
        "    return policy, V\n"
      ]
    },
    {
      "cell_type": "markdown",
      "metadata": {
        "id": "sif2YH-B7afv"
      },
      "source": [
        "# Value Iteration Function Definition"
      ]
    },
    {
      "cell_type": "code",
      "execution_count": 5,
      "metadata": {
        "id": "UOlu2Jzl7afv"
      },
      "outputs": [],
      "source": [
        "def value_iteration(env, gamma=1.0, theta=1e-6):\n",
        "    num_states = env.goal + 1  # States range from 0 to goal\n",
        "    num_actions = 2  # 'roll' or 'stop'\n",
        "\n",
        "    # Initialize value function\n",
        "    V = np.zeros(num_states)  # Value function\n",
        "\n",
        "    def calculate_state_value(state, action):\n",
        "        \"\"\"Calculate the value of a state-action pair.\"\"\"\n",
        "        if action == 1:  # Action 1 corresponds to 'stop'\n",
        "            return state  # Value of 'stop' action is the current score\n",
        "        elif action == 0:  # Action 0 corresponds to 'roll'\n",
        "            if state >= env.goal:\n",
        "                return state  # If already at or above goal, returning the current state\n",
        "            else:\n",
        "                roll_values = [state + roll for roll in range(2, 7)]  # Possible roll outcomes\n",
        "                roll_values = [min(value, env.goal) for value in roll_values]  # Cap at goal\n",
        "                roll_values.append(0)  # Value of rolling a 1 is losing all points\n",
        "                return np.sum([(1/6) * (env.prob_roll * value) for value in roll_values])\n",
        "        else:\n",
        "            raise ValueError(\"Invalid action. Choose either 0 for 'roll' or 1 for 'stop'.\")\n",
        "\n",
        "    while True:\n",
        "        delta = 0\n",
        "        for s in range(1, env.goal):  # Evaluate all states from 1 to goal-1\n",
        "            v = V[s]\n",
        "            action_values = [calculate_state_value(s, 0), calculate_state_value(s, 1)]\n",
        "            V[s] = max(action_values)\n",
        "            delta = max(delta, abs(v - V[s]))\n",
        "        if delta < theta:\n",
        "            break\n",
        "\n",
        "    # Extract policy from value function\n",
        "    policy = np.zeros(num_states, dtype=int)\n",
        "    for s in range(1, env.goal):\n",
        "        action_values = [calculate_state_value(s, 0), calculate_state_value(s, 1)]\n",
        "        policy[s] = np.argmax(action_values)\n",
        "\n",
        "    return policy, V"
      ]
    },
    {
      "cell_type": "markdown",
      "metadata": {
        "id": "r5flz-WD7afw"
      },
      "source": [
        "# Executing Policy Iteration and Value Iteration Function"
      ]
    },
    {
      "cell_type": "code",
      "execution_count": 6,
      "metadata": {
        "id": "GMgBw1G77afw",
        "colab": {
          "base_uri": "https://localhost:8080/"
        },
        "outputId": "21fbb70d-62a3-4fa0-9f00-c46e06c96585"
      },
      "outputs": [
        {
          "output_type": "stream",
          "name": "stdout",
          "text": [
            "Policy Iteration:\n",
            "Optimal Policy (Policy Iteration):\n",
            "[0 0 0 0 1 1 1 1 1 1 1 1 1 1 1 1 1 1 1 1 1 1 1 1 1 1 1 1 1 1 1 1 1 1 1 1 1\n",
            " 1 1 1 1 1 1 1 1 1 1 1 1 1 1 1 1 1 1 1 1 1 1 1 1 1 1 1 1 1 1 1 1 1 1 1 1 1\n",
            " 1 1 1 1 1 1 1 1 1 1 1 1 1 1 1 1 1 1 1 1 1 1 1 1 1 1 1]\n",
            "Optimal Value Function (Policy Iteration):\n",
            "[ 0.   2.5  3.   3.5  4.   5.   6.   7.   8.   9.  10.  11.  12.  13.\n",
            " 14.  15.  16.  17.  18.  19.  20.  21.  22.  23.  24.  25.  26.  27.\n",
            " 28.  29.  30.  31.  32.  33.  34.  35.  36.  37.  38.  39.  40.  41.\n",
            " 42.  43.  44.  45.  46.  47.  48.  49.  50.  51.  52.  53.  54.  55.\n",
            " 56.  57.  58.  59.  60.  61.  62.  63.  64.  65.  66.  67.  68.  69.\n",
            " 70.  71.  72.  73.  74.  75.  76.  77.  78.  79.  80.  81.  82.  83.\n",
            " 84.  85.  86.  87.  88.  89.  90.  91.  92.  93.  94.  95.  96.  97.\n",
            " 98.  99.   0. ]\n",
            "\n",
            "Value Iteration:\n",
            "Optimal Policy (Value Iteration):\n",
            "[0 0 0 0 1 1 1 1 1 1 1 1 1 1 1 1 1 1 1 1 1 1 1 1 1 1 1 1 1 1 1 1 1 1 1 1 1\n",
            " 1 1 1 1 1 1 1 1 1 1 1 1 1 1 1 1 1 1 1 1 1 1 1 1 1 1 1 1 1 1 1 1 1 1 1 1 1\n",
            " 1 1 1 1 1 1 1 1 1 1 1 1 1 1 1 1 1 1 1 1 1 1 1 1 1 1 0]\n",
            "Optimal Value Function (Value Iteration):\n",
            "[ 0.   2.5  3.   3.5  4.   5.   6.   7.   8.   9.  10.  11.  12.  13.\n",
            " 14.  15.  16.  17.  18.  19.  20.  21.  22.  23.  24.  25.  26.  27.\n",
            " 28.  29.  30.  31.  32.  33.  34.  35.  36.  37.  38.  39.  40.  41.\n",
            " 42.  43.  44.  45.  46.  47.  48.  49.  50.  51.  52.  53.  54.  55.\n",
            " 56.  57.  58.  59.  60.  61.  62.  63.  64.  65.  66.  67.  68.  69.\n",
            " 70.  71.  72.  73.  74.  75.  76.  77.  78.  79.  80.  81.  82.  83.\n",
            " 84.  85.  86.  87.  88.  89.  90.  91.  92.  93.  94.  95.  96.  97.\n",
            " 98.  99.   0. ]\n"
          ]
        }
      ],
      "source": [
        "#Simulate the game for 100 states. Use the learned policy to get the actions.\n",
        "#when its roll, randomly generate a number to find the reward.\n",
        "#when its stop, get the respective reward\n",
        "#determine the total cumulative reward\n",
        "\n",
        "# Create the environment\n",
        "env = DiceGameEnvironment(goal=100, prob_roll=0.6)\n",
        "\n",
        "# Perform Policy Iteration\n",
        "print(\"Policy Iteration:\")\n",
        "policy_pi, V_pi = policy_iteration(env)\n",
        "print(\"Optimal Policy (Policy Iteration):\")\n",
        "print(policy_pi)\n",
        "print(\"Optimal Value Function (Policy Iteration):\")\n",
        "print(V_pi)\n",
        "\n",
        "# Perform Value Iteration\n",
        "print(\"\\nValue Iteration:\")\n",
        "policy_vi, V_vi = value_iteration(env)\n",
        "print(\"Optimal Policy (Value Iteration):\")\n",
        "print(policy_vi)\n",
        "print(\"Optimal Value Function (Value Iteration):\")\n",
        "print(V_vi)\n"
      ]
    },
    {
      "cell_type": "markdown",
      "metadata": {
        "id": "gaaPfNNa7afw"
      },
      "source": [
        "### Print the Learned Optimal Policy, Optimal Value Function"
      ]
    },
    {
      "cell_type": "code",
      "execution_count": 7,
      "metadata": {
        "id": "BisSE1d27afw",
        "colab": {
          "base_uri": "https://localhost:8080/"
        },
        "outputId": "7c850b84-f12f-4acd-9314-7b281200d1a0"
      },
      "outputs": [
        {
          "output_type": "stream",
          "name": "stdout",
          "text": [
            "\n",
            "Learned Optimal Policy and Optimal Value Function:\n",
            "Policy Iteration - Optimal Policy:\n",
            "[0 0 0 0 1 1 1 1 1 1 1 1 1 1 1 1 1 1 1 1 1 1 1 1 1 1 1 1 1 1 1 1 1 1 1 1 1\n",
            " 1 1 1 1 1 1 1 1 1 1 1 1 1 1 1 1 1 1 1 1 1 1 1 1 1 1 1 1 1 1 1 1 1 1 1 1 1\n",
            " 1 1 1 1 1 1 1 1 1 1 1 1 1 1 1 1 1 1 1 1 1 1 1 1 1 1 1]\n",
            "Policy Iteration - Optimal Value Function:\n",
            "[ 0.   2.5  3.   3.5  4.   5.   6.   7.   8.   9.  10.  11.  12.  13.\n",
            " 14.  15.  16.  17.  18.  19.  20.  21.  22.  23.  24.  25.  26.  27.\n",
            " 28.  29.  30.  31.  32.  33.  34.  35.  36.  37.  38.  39.  40.  41.\n",
            " 42.  43.  44.  45.  46.  47.  48.  49.  50.  51.  52.  53.  54.  55.\n",
            " 56.  57.  58.  59.  60.  61.  62.  63.  64.  65.  66.  67.  68.  69.\n",
            " 70.  71.  72.  73.  74.  75.  76.  77.  78.  79.  80.  81.  82.  83.\n",
            " 84.  85.  86.  87.  88.  89.  90.  91.  92.  93.  94.  95.  96.  97.\n",
            " 98.  99.   0. ]\n",
            "\n",
            "Value Iteration - Optimal Policy:\n",
            "[0 0 0 0 1 1 1 1 1 1 1 1 1 1 1 1 1 1 1 1 1 1 1 1 1 1 1 1 1 1 1 1 1 1 1 1 1\n",
            " 1 1 1 1 1 1 1 1 1 1 1 1 1 1 1 1 1 1 1 1 1 1 1 1 1 1 1 1 1 1 1 1 1 1 1 1 1\n",
            " 1 1 1 1 1 1 1 1 1 1 1 1 1 1 1 1 1 1 1 1 1 1 1 1 1 1 0]\n",
            "Value Iteration - Optimal Value Function:\n",
            "[ 0.   2.5  3.   3.5  4.   5.   6.   7.   8.   9.  10.  11.  12.  13.\n",
            " 14.  15.  16.  17.  18.  19.  20.  21.  22.  23.  24.  25.  26.  27.\n",
            " 28.  29.  30.  31.  32.  33.  34.  35.  36.  37.  38.  39.  40.  41.\n",
            " 42.  43.  44.  45.  46.  47.  48.  49.  50.  51.  52.  53.  54.  55.\n",
            " 56.  57.  58.  59.  60.  61.  62.  63.  64.  65.  66.  67.  68.  69.\n",
            " 70.  71.  72.  73.  74.  75.  76.  77.  78.  79.  80.  81.  82.  83.\n",
            " 84.  85.  86.  87.  88.  89.  90.  91.  92.  93.  94.  95.  96.  97.\n",
            " 98.  99.   0. ]\n"
          ]
        }
      ],
      "source": [
        "# Printing the learned optimal policy and optimal value function\n",
        "print(\"\\nLearned Optimal Policy and Optimal Value Function:\")\n",
        "print(\"Policy Iteration - Optimal Policy:\")\n",
        "print(policy_pi)\n",
        "print(\"Policy Iteration - Optimal Value Function:\")\n",
        "print(V_pi)\n",
        "print(\"\\nValue Iteration - Optimal Policy:\")\n",
        "print(policy_vi)\n",
        "print(\"Value Iteration - Optimal Value Function:\")\n",
        "print(V_vi)\n",
        "\n"
      ]
    },
    {
      "cell_type": "markdown",
      "metadata": {
        "id": "aGUqPYqF7afw"
      },
      "source": [
        "# Change in environment details\n",
        "\n",
        "Consider the following scenario:\n",
        "1. What happens if we change the goal score to 50 instead of 100? How does it affect the optimal policy and value function?\n",
        "2. How would the optimal policy and value function change if the die had 8 sides instead of 6? Assume the outcomes range from 0 to 7, with each outcome having a probability of 1/8.\n",
        "3. Experiment with different discount factors (e.g., 0.9, 0.95). How does discounting future rewards impact the optimal policy and value function?\n",
        "4. Create a heatmap or line plot to visualize the value function over different states. How does the value function change as the state approaches the goal?\n"
      ]
    },
    {
      "cell_type": "code",
      "execution_count": 8,
      "metadata": {
        "id": "3bf81q887afx",
        "colab": {
          "base_uri": "https://localhost:8080/"
        },
        "outputId": "ac9cfce3-7b1d-4a16-ecbb-232ad0683151"
      },
      "outputs": [
        {
          "output_type": "stream",
          "name": "stdout",
          "text": [
            "\n",
            "Optimal Policy (Value Iteration, Goal 50):\n",
            "[0 0 0 0 1 1 1 1 1 1 1 1 1 1 1 1 1 1 1 1 1 1 1 1 1 1 1 1 1 1 1 1 1 1 1 1 1\n",
            " 1 1 1 1 1 1 1 1 1 1 1 1 1 0]\n",
            "Optimal Value Function (Value Iteration, Goal 50):\n",
            "[ 0.   2.5  3.   3.5  4.   5.   6.   7.   8.   9.  10.  11.  12.  13.\n",
            " 14.  15.  16.  17.  18.  19.  20.  21.  22.  23.  24.  25.  26.  27.\n",
            " 28.  29.  30.  31.  32.  33.  34.  35.  36.  37.  38.  39.  40.  41.\n",
            " 42.  43.  44.  45.  46.  47.  48.  49.   0. ]\n"
          ]
        }
      ],
      "source": [
        "# Create the environment with goal 50\n",
        "env_goal_50 = DiceGameEnvironment(goal=50, prob_roll=0.6)\n",
        "\n",
        "# Perform Value Iteration\n",
        "policy_vi_goal_50, V_vi_goal_50 = value_iteration(env_goal_50)\n",
        "\n",
        "# Printing the learned optimal policy and optimal value function for goal 50\n",
        "print(\"\\nOptimal Policy (Value Iteration, Goal 50):\")\n",
        "print(policy_vi_goal_50)\n",
        "print(\"Optimal Value Function (Value Iteration, Goal 50):\")\n",
        "print(V_vi_goal_50)\n",
        "\n"
      ]
    },
    {
      "cell_type": "code",
      "source": [
        "def calculate_state_value(state, action, env):\n",
        "    \"\"\"Calculate the value of a state-action pair for an 8-sided die.\"\"\"\n",
        "    if action == 1:  # Action 1 corresponds to 'stop'\n",
        "        return state  # Value of 'stop' action is the current score\n",
        "    elif action == 0:  # Action 0 corresponds to 'roll'\n",
        "        if state >= env.goal:\n",
        "            return state  # If already at or above goal, returning the current state\n",
        "        else:\n",
        "            roll_values = [state + roll for roll in range(1, 8)]  # Possible roll outcomes 1 to 7\n",
        "            roll_values = [min(value, env.goal) for value in roll_values]  # Cap at goal\n",
        "            roll_values.append(0)  # Value of rolling a 0 is losing all points\n",
        "            return np.sum([(1/8) * (env.prob_roll * value) for value in roll_values])\n",
        "    else:\n",
        "        raise ValueError(\"Invalid action. Choose either 0 for 'roll' or 1 for 'stop'.\")\n",
        "# Create the environment with an 8-sided die\n",
        "env_8_sided_die = DiceGameEnvironment(goal=100, prob_roll=0.8)\n",
        "\n",
        "# Perform Value Iteration\n",
        "policy_vi_8_sided, V_vi_8_sided = value_iteration(env_8_sided_die)\n",
        "\n",
        "# Printing the learned optimal policy and optimal value function for an 8-sided die\n",
        "print(\"\\nOptimal Policy (Value Iteration, 8-Sided Die):\")\n",
        "print(policy_vi_8_sided)\n",
        "print(\"Optimal Value Function (Value Iteration, 8-Sided Die):\")\n",
        "print(V_vi_8_sided)\n"
      ],
      "metadata": {
        "colab": {
          "base_uri": "https://localhost:8080/"
        },
        "id": "Q3QTCHn_rWkt",
        "outputId": "cb557d99-1695-44ae-e973-ed09722cddc9"
      },
      "execution_count": 9,
      "outputs": [
        {
          "output_type": "stream",
          "name": "stdout",
          "text": [
            "\n",
            "Optimal Policy (Value Iteration, 8-Sided Die):\n",
            "[0 0 0 0 0 0 0 0 0 1 1 1 1 1 1 1 1 1 1 1 1 1 1 1 1 1 1 1 1 1 1 1 1 1 1 1 1\n",
            " 1 1 1 1 1 1 1 1 1 1 1 1 1 1 1 1 1 1 1 1 1 1 1 1 1 1 1 1 1 1 1 1 1 1 1 1 1\n",
            " 1 1 1 1 1 1 1 1 1 1 1 1 1 1 1 1 1 1 1 1 1 1 1 1 1 1 0]\n",
            "Optimal Value Function (Value Iteration, 8-Sided Die):\n",
            "[ 0.          3.33333333  4.          4.66666667  5.33333333  6.\n",
            "  6.66666667  7.33333333  8.          9.         10.         11.\n",
            " 12.         13.         14.         15.         16.         17.\n",
            " 18.         19.         20.         21.         22.         23.\n",
            " 24.         25.         26.         27.         28.         29.\n",
            " 30.         31.         32.         33.         34.         35.\n",
            " 36.         37.         38.         39.         40.         41.\n",
            " 42.         43.         44.         45.         46.         47.\n",
            " 48.         49.         50.         51.         52.         53.\n",
            " 54.         55.         56.         57.         58.         59.\n",
            " 60.         61.         62.         63.         64.         65.\n",
            " 66.         67.         68.         69.         70.         71.\n",
            " 72.         73.         74.         75.         76.         77.\n",
            " 78.         79.         80.         81.         82.         83.\n",
            " 84.         85.         86.         87.         88.         89.\n",
            " 90.         91.         92.         93.         94.         95.\n",
            " 96.         97.         98.         99.          0.        ]\n"
          ]
        }
      ]
    },
    {
      "cell_type": "code",
      "source": [
        "# Create the environment with default parameters\n",
        "env_discount_09 = DiceGameEnvironment(goal=100, prob_roll=0.6)\n",
        "env_discount_095 = DiceGameEnvironment(goal=100, prob_roll=0.6)\n",
        "\n",
        "# Perform Value Iteration with discount factor 0.9\n",
        "policy_vi_discount_09, V_vi_discount_09 = value_iteration(env_discount_09, gamma=0.9)\n",
        "\n",
        "# Perform Value Iteration with discount factor 0.95\n",
        "policy_vi_discount_095, V_vi_discount_095 = value_iteration(env_discount_095, gamma=0.95)\n",
        "\n",
        "# Printing the learned optimal policies and optimal value functions for different discount factors\n",
        "print(\"\\nOptimal Policy (Value Iteration, Discount Factor 0.9):\")\n",
        "print(policy_vi_discount_09)\n",
        "print(\"Optimal Value Function (Value Iteration, Discount Factor 0.9):\")\n",
        "print(V_vi_discount_09)\n",
        "\n",
        "print(\"\\nOptimal Policy (Value Iteration, Discount Factor 0.95):\")\n",
        "print(policy_vi_discount_095)\n",
        "print(\"Optimal Value Function (Value Iteration, Discount Factor 0.95):\")\n",
        "print(V_vi_discount_095)\n"
      ],
      "metadata": {
        "colab": {
          "base_uri": "https://localhost:8080/"
        },
        "id": "zcmI2KLmrZw0",
        "outputId": "d18edf98-0d2b-4d27-ec91-e0741e95a747"
      },
      "execution_count": 10,
      "outputs": [
        {
          "output_type": "stream",
          "name": "stdout",
          "text": [
            "\n",
            "Optimal Policy (Value Iteration, Discount Factor 0.9):\n",
            "[0 0 0 0 1 1 1 1 1 1 1 1 1 1 1 1 1 1 1 1 1 1 1 1 1 1 1 1 1 1 1 1 1 1 1 1 1\n",
            " 1 1 1 1 1 1 1 1 1 1 1 1 1 1 1 1 1 1 1 1 1 1 1 1 1 1 1 1 1 1 1 1 1 1 1 1 1\n",
            " 1 1 1 1 1 1 1 1 1 1 1 1 1 1 1 1 1 1 1 1 1 1 1 1 1 1 0]\n",
            "Optimal Value Function (Value Iteration, Discount Factor 0.9):\n",
            "[ 0.   2.5  3.   3.5  4.   5.   6.   7.   8.   9.  10.  11.  12.  13.\n",
            " 14.  15.  16.  17.  18.  19.  20.  21.  22.  23.  24.  25.  26.  27.\n",
            " 28.  29.  30.  31.  32.  33.  34.  35.  36.  37.  38.  39.  40.  41.\n",
            " 42.  43.  44.  45.  46.  47.  48.  49.  50.  51.  52.  53.  54.  55.\n",
            " 56.  57.  58.  59.  60.  61.  62.  63.  64.  65.  66.  67.  68.  69.\n",
            " 70.  71.  72.  73.  74.  75.  76.  77.  78.  79.  80.  81.  82.  83.\n",
            " 84.  85.  86.  87.  88.  89.  90.  91.  92.  93.  94.  95.  96.  97.\n",
            " 98.  99.   0. ]\n",
            "\n",
            "Optimal Policy (Value Iteration, Discount Factor 0.95):\n",
            "[0 0 0 0 1 1 1 1 1 1 1 1 1 1 1 1 1 1 1 1 1 1 1 1 1 1 1 1 1 1 1 1 1 1 1 1 1\n",
            " 1 1 1 1 1 1 1 1 1 1 1 1 1 1 1 1 1 1 1 1 1 1 1 1 1 1 1 1 1 1 1 1 1 1 1 1 1\n",
            " 1 1 1 1 1 1 1 1 1 1 1 1 1 1 1 1 1 1 1 1 1 1 1 1 1 1 0]\n",
            "Optimal Value Function (Value Iteration, Discount Factor 0.95):\n",
            "[ 0.   2.5  3.   3.5  4.   5.   6.   7.   8.   9.  10.  11.  12.  13.\n",
            " 14.  15.  16.  17.  18.  19.  20.  21.  22.  23.  24.  25.  26.  27.\n",
            " 28.  29.  30.  31.  32.  33.  34.  35.  36.  37.  38.  39.  40.  41.\n",
            " 42.  43.  44.  45.  46.  47.  48.  49.  50.  51.  52.  53.  54.  55.\n",
            " 56.  57.  58.  59.  60.  61.  62.  63.  64.  65.  66.  67.  68.  69.\n",
            " 70.  71.  72.  73.  74.  75.  76.  77.  78.  79.  80.  81.  82.  83.\n",
            " 84.  85.  86.  87.  88.  89.  90.  91.  92.  93.  94.  95.  96.  97.\n",
            " 98.  99.   0. ]\n"
          ]
        }
      ]
    },
    {
      "cell_type": "code",
      "source": [
        "import matplotlib.pyplot as plt\n",
        "\n",
        "# Generate states and corresponding values\n",
        "states = np.arange(0, 101)\n",
        "values = V_vi  # Replace with the optimal value function of your choice\n",
        "\n",
        "plt.figure(figsize=(10, 6))\n",
        "plt.plot(states, values, marker='o', linestyle='-', color='b')\n",
        "plt.title('Optimal Value Function')\n",
        "plt.xlabel('State (Score)')\n",
        "plt.ylabel('Value')\n",
        "plt.grid(True)\n",
        "plt.show()\n"
      ],
      "metadata": {
        "colab": {
          "base_uri": "https://localhost:8080/",
          "height": 564
        },
        "id": "VFZxm1JbrbxL",
        "outputId": "aec3a43e-ea38-4873-a91e-feacd91c8145"
      },
      "execution_count": 11,
      "outputs": [
        {
          "output_type": "display_data",
          "data": {
            "text/plain": [
              "<Figure size 1000x600 with 1 Axes>"
            ],
            "image/png": "[encoded data removed]"
          },
          "metadata": {}
        }
      ]
    },
    {
      "cell_type": "markdown",
      "source": [
        "# Conclusion\n",
        "\n",
        "In tackling the Dice game problem, the approach hinges on utilizing dynamic programming techniques, specifically value iteration and policy iteration, to derive an optimal strategy for the player. Initially, with a goal score of 100 and a 6-sided die where rolling a 1 resets the score to zero, the optimal policy focuses on balancing risk and reward to reach exactly 100 points. Value iteration computes the optimal state values iteratively, considering both rolling the die and stopping at each score level. This approach ensures that the agent learns to maximize the probability of achieving the exact goal without risking losing accumulated points.\n",
        "\n",
        "After altering parameters such as reducing the goal score to 50 or increasing the die sides to 8 with outcomes from 0 to 7, the optimal strategy adapts accordingly. A lower goal score increases the likelihood of achieving it, leading to more conservative play. Conversely, an 8-sided die broadens the range of potential outcomes, necessitating adjustments in the state-value calculations to account for different roll probabilities and their associated rewards or penalties.\n",
        "\n",
        "Experimenting with discount factors like 0.9 or 0.95 further explores the impact of future reward discounting on the optimal policy. A higher discount factor favors immediate rewards, potentially encouraging more aggressive play to reach the goal sooner, while a lower factor promotes more cautious strategies to ensure the preservation of accumulated points over longer horizons.\n",
        "\n",
        "Visualizing the value function through plots or heatmaps provides insights into how the value of each state evolves as the player approaches the goal. This visualization aids in understanding the critical states where decisions between rolling and stopping are most pivotal.\n",
        "\n",
        "In conclusion, the best approach for solving the Dice game problem involves dynamic programming methods tailored to the specific game parameters. By iteratively refining the state-value function and policy, adjusting strategies to accommodate parameter changes ensures the agent's adaptability and effectiveness in achieving the optimal outcome under varying conditions."
      ],
      "metadata": {
        "id": "xOQk0LcUImEW"
      }
    }
  ],
  "metadata": {
    "kernelspec": {
      "display_name": "Python 3",
      "language": "python",
      "name": "python3"
    },
    "language_info": {
      "codemirror_mode": {
        "name": "ipython",
        "version": 3
      },
      "file_extension": ".py",
      "mimetype": "text/x-python",
      "name": "python",
      "nbconvert_exporter": "python",
      "pygments_lexer": "ipython3",
      "version": "3.7.6"
    },
    "colab": {
      "provenance": []
    }
  },
  "nbformat": 4,
  "nbformat_minor": 0
}